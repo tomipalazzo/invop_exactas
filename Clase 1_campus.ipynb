{
 "cells": [
  {
   "cell_type": "markdown",
   "metadata": {
    "slideshow": {
     "slide_type": "slide"
    }
   },
   "source": [
    "### Introducción a la Investigación Operativa y la Optimización\n",
    "\n",
    "### • Optimización no lineal - Clase 1\n",
    "\n",
    "**Nazareno Faillace Mullen - Departamento de Matemática, FCEN, UBA**\n"
   ]
  },
  {
   "cell_type": "markdown",
   "metadata": {
    "slideshow": {
     "slide_type": "slide"
    }
   },
   "source": [
    "### Contenidos\n",
    "* <a href=\"#whyPython\">¿Por qué usar Python?</a>\n",
    "* <a href =\"Sintaxis\">Sintaxis</a>\n",
    "* <a href=\"#objs\">Objetos Básicos de Python</a>\n",
    "    * <a href=\"#list\">Listas</a>\n",
    "    * <a href=\"#tuple\">Tupla</a>\n",
    "* <a href=\"#Mutables\">Mutables e Immutables</a>\n",
    "* <a href=\"#tricks\">Algunos trucos de Python</a>\n",
    "* <a href=\"#func\">Funciones</a>\n",
    "    * <a href=\"#funcanon\">Funciones anónimas</a>\n",
    "* <a href=\"#numpy\">Librería Numpy</a>\n",
    "    * <a href=\"#numpycoms\">Comandos útiles para arrays</a>\n",
    "* <a href=\"#ders\">Derivadas para una función en una variable</a>"
   ]
  },
  {
   "attachments": {
    "480px-Python-logo-notext.svg.png": {
     "image/png": "[encoded data removed]"
    }
   },
   "cell_type": "markdown",
   "metadata": {
    "slideshow": {
     "slide_type": "slide"
    }
   },
   "source": [
    "<a name=\"whyPython\"></a>\n",
    "## ¿Por qué usar Python?\n",
    "\n",
    "![480px-Python-logo-notext.svg.png](attachment:480px-Python-logo-notext.svg.png)\n",
    "\n",
    "* ¡Gratis!\n",
    "-  Gran comunidad ($\\Rightarrow$ Diversidad de paquetes y funcionalidades)\n",
    "-  Versátil \n",
    "-  Es fácil plasmar ideas \n",
    "-  Sintaxis amena"
   ]
  },
  {
   "cell_type": "markdown",
   "metadata": {
    "slideshow": {
     "slide_type": "slide"
    }
   },
   "source": [
    "<a name=\"sintaxis\"></a>\n",
    "## Sintaxis\n",
    "\n",
    "* Asignar valor: `=`\n",
    "* Operadores aritméticos: `+, -, *, /, %, **`\n",
    "   \n",
    "   En Python son equivalentes, por ejemplo: `x = x + 1` y `x += 1` \n",
    "\n",
    "* Operadores de comparación: `==, !=, >, <, >=, <=`\n",
    "* Operadores de pertenencia: `in, not in`\n",
    "\n",
    "   Ejemplo:"
   ]
  },
  {
   "cell_type": "code",
   "execution_count": 34,
   "metadata": {
    "pycharm": {
     "is_executing": true
    },
    "slideshow": {
     "slide_type": "fragment"
    }
   },
   "outputs": [
    {
     "name": "stdout",
     "output_type": "stream",
     "text": [
      "True\n",
      "False\n",
      "True\n"
     ]
    }
   ],
   "source": [
    "ls = [1, 2, 9, 11]\n",
    "print(9 in ls)\n",
    "print(5 in ls)\n",
    "print (5 not in ls)"
   ]
  },
  {
   "cell_type": "markdown",
   "metadata": {
    "slideshow": {
     "slide_type": "slide"
    }
   },
   "source": [
    "* Loops: `for, while` (indentar el bloque!)\n",
    "* Condicionales: `if, else, elif` (indentar el bloque!)"
   ]
  },
  {
   "cell_type": "markdown",
   "metadata": {
    "slideshow": {
     "slide_type": "slide"
    }
   },
   "source": [
    "<a name=\"objs\"></a>\n",
    "## Algunos objetos básicos de Python\n",
    "\n",
    "\n",
    "\n",
    "| Bool | string | set | int | list | dict| float | tuple |   "
   ]
  },
  {
   "cell_type": "markdown",
   "metadata": {
    "slideshow": {
     "slide_type": "slide"
    }
   },
   "source": [
    "<a name=\"list\"></a>\n",
    "### Listas (list)\n",
    "\n",
    "Uno de los objetos más maleables de Python. Es una colección ordenada de objetos (pueden haber repeticiones). No es necesario que los elementos de una lista sean todos del mismo tipo."
   ]
  },
  {
   "cell_type": "code",
   "execution_count": 2,
   "metadata": {
    "slideshow": {
     "slide_type": "fragment"
    }
   },
   "outputs": [
    {
     "name": "stdout",
     "output_type": "stream",
     "text": [
      "[1, 3, 1, 11]\n"
     ]
    }
   ],
   "source": [
    "A = [1, 3, 1, 11]\n",
    "print(A)"
   ]
  },
  {
   "cell_type": "markdown",
   "metadata": {
    "slideshow": {
     "slide_type": "fragment"
    }
   },
   "source": [
    "__Importante__: en Python las secuencias (como listas y tuplas) comienzan en el índice 0\n",
    "\n",
    "Hay varias funciones para las listas que permiten, por ejemplo,  agregar un elemento al final de la lista (`append`) o encontrar el índice de un determinado elemento (`index`). Una lista comprensiva puede encontrarse en este [link](https://www.programiz.com/python-programming/methods/list)\n"
   ]
  },
  {
   "cell_type": "code",
   "execution_count": 3,
   "metadata": {
    "slideshow": {
     "slide_type": "slide"
    }
   },
   "outputs": [
    {
     "name": "stdout",
     "output_type": "stream",
     "text": [
      "A :  [1, 11, 3, -4]\n",
      "A :  [1, 11, 3, -4, 17]\n",
      "A :  [1, 11, -4, 17]\n",
      "A :  [13, 11, -4, 17]\n",
      "A[1:] :  [11, -4, 17]\n",
      "[13, 11, -4, 17, -1, 8]\n"
     ]
    }
   ],
   "source": [
    "# Definimos una lista\n",
    "A = [1, 11, 3, -4]\n",
    "print('A : ', A)\n",
    "\n",
    "# Agregamos un elemento al final\n",
    "A.append(17)\n",
    "print('A : ', A)\n",
    "\n",
    "# Eliminamos el elemento del índice 2\n",
    "del A[2]\n",
    "print('A : ', A)\n",
    "\n",
    "# Cambiamos el primer elemento\n",
    "A[0] = 13\n",
    "print('A : ', A)\n",
    "\n",
    "# Queremos obtener el una porción de A: desde el índice 1 hasta el final (la lista A no se modifica)\n",
    "print('A[1:] : ', A[1:])\n",
    "\n",
    "# Definimos otra lista y las concatenamos (ninguna de las dos listas es modificada)\n",
    "B = [-1, 8]\n",
    "print(A + B)"
   ]
  },
  {
   "cell_type": "markdown",
   "metadata": {
    "slideshow": {
     "slide_type": "slide"
    }
   },
   "source": [
    "<a name=\"tuple\"></a>\n",
    "### Tuplas (tuple)\n",
    "\n",
    "Las tuplas también son una colección ordenada de objetos (pueden estar repetidos) pero una vez que definimos la tupla, no podemos agregarle ni quitarle elementos. La sintaxis para acceder a sus elementos es igual a la de las listas.\n",
    "\n",
    "Las tuplas son útiles para cuando sabemos que no realizaremos modificaciones. Además, iterar sobre una tupla es levemente más rápido que iterar sobre una lista."
   ]
  },
  {
   "cell_type": "code",
   "execution_count": 4,
   "metadata": {
    "slideshow": {
     "slide_type": "fragment"
    }
   },
   "outputs": [
    {
     "name": "stdout",
     "output_type": "stream",
     "text": [
      "(1, 5, 3, 7)\n",
      "1\n"
     ]
    }
   ],
   "source": [
    "# Creamos una tupla\n",
    "A = (1, 5, 3, 7)\n",
    "print(A)\n",
    "\n",
    "# Accedemos a su primer elemento\n",
    "print(A[0])"
   ]
  },
  {
   "cell_type": "markdown",
   "metadata": {
    "slideshow": {
     "slide_type": "slide"
    }
   },
   "source": [
    "<a name=\"Mutables\"></a>\n",
    "##  _mutables_ e _immutables_\n",
    "\n",
    "Ejercicio:\n",
    "\n",
    "1. Crear una lista A no vacía\n",
    "2. Definir una lista `B` que *copie* a `A`, utilizando el comando  `B = A` \n",
    "3. Modificar `A` (ej: agregando/quitando/modificando algún elemento)\n",
    "4. Imprimir `B`\n",
    "\n",
    "¿Suciedió lo que esperamos? "
   ]
  },
  {
   "cell_type": "code",
   "execution_count": 44,
   "metadata": {
    "slideshow": {
     "slide_type": "skip"
    }
   },
   "outputs": [
    {
     "data": {
      "text/plain": [
       "[1, 4, 3]"
      ]
     },
     "execution_count": 44,
     "metadata": {},
     "output_type": "execute_result"
    }
   ],
   "source": [
    "A = [1,2,3]\n",
    "B = A\n",
    "A[1] = 4 \n",
    "B"
   ]
  },
  {
   "cell_type": "markdown",
   "metadata": {
    "slideshow": {
     "slide_type": "slide"
    }
   },
   "source": [
    "Los objetos que vimos anteriormente se dividen en dos categorías: _mutables_ e _immutables_, de la siguiente manera:\n",
    "\n",
    "__Mutables__: `list`, `set`, `dict`\n",
    "\n",
    "__Immutables__: `string`, `bool`, `int`, `float`, `tuple`\n",
    "\n",
    "Un objeto _mutable_ puede cambiar su estado o contenidos, pero un objeto _immutable_ no. En Python, cuando uno asigna un objeto a una variable no está copiando el objeto, sino creando una referencia a él. Para entender la diferencia entre las dos categorías, veremos algunos ejemplos. Utilizaremos el comando `id`"
   ]
  },
  {
   "cell_type": "code",
   "execution_count": 5,
   "metadata": {
    "slideshow": {
     "slide_type": "slide"
    }
   },
   "outputs": [
    {
     "name": "stdout",
     "output_type": "stream",
     "text": [
      "x :  10\n",
      "y :  10\n",
      "id(x) == id(y) :  True\n",
      "id(y) == id(10) :  True\n"
     ]
    }
   ],
   "source": [
    "# Definimos dos variables\n",
    "x = 10\n",
    "y = x\n",
    "print('x : ', x)\n",
    "print('y : ', y)\n",
    "\n",
    "# Los identificadores de ambas variables apuntan al mismo objeto: 10\n",
    "print('id(x) == id(y) : ', id(x) == id(y))\n",
    "print('id(y) == id(10) : ', id(y) == id(10))"
   ]
  },
  {
   "cell_type": "markdown",
   "metadata": {
    "slideshow": {
     "slide_type": "slide"
    }
   },
   "source": [
    "Efectuamos una operación que cambia el valor de `x`. Veamos qué ocurre:"
   ]
  },
  {
   "cell_type": "code",
   "execution_count": 6,
   "metadata": {
    "slideshow": {
     "slide_type": "fragment"
    }
   },
   "outputs": [
    {
     "name": "stdout",
     "output_type": "stream",
     "text": [
      "Cambia el valor de x\n",
      "id(x) == id(y) :  False\n",
      "id(y) == id(10) :  True\n"
     ]
    }
   ],
   "source": [
    "# Ahora efectuamos una operación que modifica el valor de x\n",
    "print('Cambia el valor de x')\n",
    "x = x + 1\n",
    "\n",
    "# Los identificadores de ambas variables apuntan distintos objetos\n",
    "print('id(x) == id(y) : ', id(x) == id(y))\n",
    "print('id(y) == id(10) : ', id(y) == id(10))"
   ]
  },
  {
   "cell_type": "markdown",
   "metadata": {
    "slideshow": {
     "slide_type": "fragment"
    }
   },
   "source": [
    "Asignamos un nuevo valor a `x` pero el objeto `10` no cambió. Notar que tampoco cambió el valor de `y` (sigue valiendo `10`)\n",
    "\n",
    "Veamos qué ocurre con un objeto _mutable_:"
   ]
  },
  {
   "cell_type": "code",
   "execution_count": 7,
   "metadata": {
    "slideshow": {
     "slide_type": "slide"
    }
   },
   "outputs": [
    {
     "name": "stdout",
     "output_type": "stream",
     "text": [
      "A :  [2, 1, 11, -1, 0]\n",
      "id(A) :  140516147561792\n",
      "B :  [2, 1, 11, -1, 0]\n",
      "id(B) :  140516147561792\n",
      "id(A) == id(B) :  True\n"
     ]
    }
   ],
   "source": [
    "# Definimos una lista A\n",
    "A = [2, 1, 11, -1, 0]\n",
    "print('A : ', A)\n",
    "print('id(A) : ', id(A))\n",
    "\n",
    "# Definimos otra lista B como igual a A\n",
    "B = A\n",
    "print('B : ', B)\n",
    "print('id(B) : ', id(B))\n",
    "\n",
    "# Los identificadores de A y de B apuntan al mismo objeto: [2, 1, 11, -1, 0]\n",
    "print('id(A) == id(B) : ', id(A) == id(B))"
   ]
  },
  {
   "cell_type": "markdown",
   "metadata": {
    "slideshow": {
     "slide_type": "slide"
    }
   },
   "source": [
    "Veamos qué ocurre si modificamos A:"
   ]
  },
  {
   "cell_type": "code",
   "execution_count": 8,
   "metadata": {
    "slideshow": {
     "slide_type": "fragment"
    }
   },
   "outputs": [
    {
     "name": "stdout",
     "output_type": "stream",
     "text": [
      "A :  [2, 1, 11, -1, 0, 99]\n",
      "id(A) :  140516147561792\n",
      "id(A) == id(B) :  True\n"
     ]
    }
   ],
   "source": [
    "# Ahora efecutamos una modificación a A: por ejemplo, agregamos un elemento\n",
    "A.append(99)\n",
    "\n",
    "# Los identificadores de A y de B siguen apuntando al mismo objeto: [2, 1, 11, -1, 0, 99] \n",
    "# Esto ocurre porque, en este caso, el objeto sí cambió\n",
    "print('A : ', A)\n",
    "print('id(A) : ', id(A))\n",
    "print('id(A) == id(B) : ', id(A) == id(B))"
   ]
  },
  {
   "cell_type": "markdown",
   "metadata": {
    "slideshow": {
     "slide_type": "fragment"
    }
   },
   "source": [
    "En este caso, como el objeto lista es _mutable_, el objeto sí cambia. Ahora el objeto es `[2,1,11,-1,0,99]` y las variables `A` y `B` siguen apuntando a él."
   ]
  },
  {
   "cell_type": "markdown",
   "metadata": {
    "slideshow": {
     "slide_type": "slide"
    }
   },
   "source": [
    "__Importante__: si `A` hace referencia a un objeto mutable (como un `set`) y queremos copiar `A` porque, por ejemplo, queremos guardar su estado actual antes de efectuar modificaciones sobre él, debemos recurrir a la función `copy`."
   ]
  },
  {
   "cell_type": "code",
   "execution_count": 9,
   "metadata": {
    "slideshow": {
     "slide_type": "fragment"
    }
   },
   "outputs": [
    {
     "name": "stdout",
     "output_type": "stream",
     "text": [
      "A :  {0, 1, 2, 11, -1}\n",
      "B :  {0, 1, 2, 11, -1}\n",
      "id(A) == id(B) :  False\n"
     ]
    }
   ],
   "source": [
    "# Definimos A\n",
    "A = set([2, 1, 11, -1, 0])\n",
    "\n",
    "# Queremos definir B, una copia de A\n",
    "B = A.copy()\n",
    "\n",
    "print('A : ', A)\n",
    "print('B : ', B)\n",
    "print('id(A) == id(B) : ', id(A) == id(B))"
   ]
  },
  {
   "cell_type": "markdown",
   "metadata": {
    "slideshow": {
     "slide_type": "slide"
    }
   },
   "source": [
    "Notar que tanto `A` como `B` son `set` con los mismos elementos, pero hacen referencia a distintos objetos. Ahora, si efectuamos cambios sobre `A`, `B` no se modifica."
   ]
  },
  {
   "cell_type": "code",
   "execution_count": 10,
   "metadata": {
    "slideshow": {
     "slide_type": "fragment"
    }
   },
   "outputs": [
    {
     "name": "stdout",
     "output_type": "stream",
     "text": [
      "A :  {0, 1, 2, 99, 11}\n",
      "B :  {0, 1, 2, 11, -1}\n"
     ]
    }
   ],
   "source": [
    "# Eliminamos el elemento más chico de A\n",
    "A.discard(min(A))\n",
    "\n",
    "# Agregamos un nuevo elemento a A\n",
    "A.add(99)\n",
    "\n",
    "print('A : ', A)\n",
    "print('B : ', B)"
   ]
  },
  {
   "cell_type": "markdown",
   "metadata": {
    "slideshow": {
     "slide_type": "fragment"
    }
   },
   "source": [
    "Notar que `B` no sufrió cambios.\n",
    "\n",
    "El comando `deepcopy` se utiliza de igual manera. Es utilizado cuando hay _mutables_ que contienen a otros _mutables_ (como diccionarios que tengan listas como valores). La desventaja de `copy` y, especialmente, de `deepcopy` es que pueden incrementar el tiempo de cómputo significativamente.\n",
    "\n",
    "__Observación__: si queremos realizar una copia de la lista `A`, basta con escribir `B = A[:]`"
   ]
  },
  {
   "cell_type": "markdown",
   "metadata": {
    "slideshow": {
     "slide_type": "slide"
    }
   },
   "source": [
    "<a name=\"tricks\"></a>\n",
    "## Algunos trucos de Python\n",
    "\n",
    "### Iteración\n",
    "\n",
    "En Python generalmente se aprovecha el operador `in` para iterar. Por ejemplo, si deseamos imprimir los números del $2$ al $10$ basta con escribir:"
   ]
  },
  {
   "cell_type": "code",
   "execution_count": 11,
   "metadata": {
    "slideshow": {
     "slide_type": "fragment"
    }
   },
   "outputs": [
    {
     "name": "stdout",
     "output_type": "stream",
     "text": [
      "2\n",
      "3\n",
      "4\n",
      "5\n",
      "6\n",
      "7\n",
      "8\n",
      "9\n",
      "10\n"
     ]
    }
   ],
   "source": [
    "for i in range(2, 11):\n",
    "    print(i)"
   ]
  },
  {
   "cell_type": "markdown",
   "metadata": {
    "slideshow": {
     "slide_type": "slide"
    }
   },
   "source": [
    "`range` tiene la siguiente sintaxis `range(inicio, fin, paso)` donde `fin` no está incluido e `inicio` y `paso`  son opcionales (sus valores por defecto son $0$ y $1$, respectivamente).\n",
    "\n",
    "Asimismo, con `in` podemos iterar sobre los elementos de cualquier iterable como, por ejemplo, una lista:"
   ]
  },
  {
   "cell_type": "code",
   "execution_count": 12,
   "metadata": {
    "slideshow": {
     "slide_type": "fragment"
    }
   },
   "outputs": [
    {
     "name": "stdout",
     "output_type": "stream",
     "text": [
      "-1\n",
      "4\n",
      "5\n",
      "7\n"
     ]
    }
   ],
   "source": [
    "L = [-1, 4, 5, 7]\n",
    "\n",
    "for i in L:\n",
    "    print(i)"
   ]
  },
  {
   "cell_type": "markdown",
   "metadata": {
    "slideshow": {
     "slide_type": "slide"
    }
   },
   "source": [
    "<a name=\"func\"></a>\n",
    "## Funciones\n",
    "\n",
    "Declaramos funciones con el comando `def`. El bloque de la función debe estar indentado (al igual que cuando definimos un `while`, `for` o `if`).\n",
    "\n",
    "Si necesitamos que la función devuelva un valor, usamos el comando `return`."
   ]
  },
  {
   "cell_type": "code",
   "execution_count": 13,
   "metadata": {
    "slideshow": {
     "slide_type": "fragment"
    }
   },
   "outputs": [
    {
     "name": "stdout",
     "output_type": "stream",
     "text": [
      "16\n"
     ]
    }
   ],
   "source": [
    "def cuadrado(n):\n",
    "    return n**2\n",
    "\n",
    "x = 4\n",
    "print(cuadrado(4))"
   ]
  },
  {
   "cell_type": "markdown",
   "metadata": {
    "slideshow": {
     "slide_type": "slide"
    }
   },
   "source": [
    "Las funciones pueden ser definidas con argumentos opcionales que tienen un valor por defecto."
   ]
  },
  {
   "cell_type": "code",
   "execution_count": 14,
   "metadata": {
    "slideshow": {
     "slide_type": "fragment"
    }
   },
   "outputs": [
    {
     "name": "stdout",
     "output_type": "stream",
     "text": [
      "potencia(3) :  9\n",
      "potencia(3,4) :  81\n"
     ]
    }
   ],
   "source": [
    "def potencia(n, m=2):\n",
    "    return n**m\n",
    "\n",
    "x = 3\n",
    "\n",
    "# Si no pasamos el argumento m, la función considera su valor por defecto.\n",
    "y = potencia(3)\n",
    "print('potencia(3) : ', y)\n",
    "\n",
    "# En cambio, si le otorgamos un valor a m:\n",
    "y = potencia(3,4)\n",
    "print('potencia(3,4) : ', y)"
   ]
  },
  {
   "cell_type": "markdown",
   "metadata": {
    "slideshow": {
     "slide_type": "slide"
    }
   },
   "source": [
    "__Importante__: las funciones pueden efectuar cambios sobre los objetos _mutables_ . Esto significa que tenemos que prestar atención a los cambios realizados sobre estos objetos, especialmente si los seguiremos utilizando en otras partes del código. "
   ]
  },
  {
   "cell_type": "code",
   "execution_count": 15,
   "metadata": {
    "slideshow": {
     "slide_type": "fragment"
    }
   },
   "outputs": [
    {
     "name": "stdout",
     "output_type": "stream",
     "text": [
      "A :  [2, 3, 7, 11]\n",
      "A después de aplicar la función :  [2, 3, 7]\n"
     ]
    }
   ],
   "source": [
    "# La función 'foo' obtiene el último elemento de una lista, \n",
    "# lo borra de ella y lo eleva al cuadrado \n",
    "def foo(ls):\n",
    "    y = ls.pop()\n",
    "    return y**2\n",
    "    \n",
    "# Definimos una lista\n",
    "A = [2, 3 ,7, 11]\n",
    "print('A : ', A)\n",
    "\n",
    "# Aplicamos la función\n",
    "x = foo(A)\n",
    "\n",
    "# Notar que, aunque Python tenga un scope local en las funciones, 'A' ha sido modificada\n",
    "print('A después de aplicar la función : ', A)"
   ]
  },
  {
   "cell_type": "markdown",
   "metadata": {
    "slideshow": {
     "slide_type": "slide"
    }
   },
   "source": [
    " El mismo comportamiento __no__ se observa con los objetos _immutables_"
   ]
  },
  {
   "cell_type": "code",
   "execution_count": 16,
   "metadata": {
    "slideshow": {
     "slide_type": "fragment"
    }
   },
   "outputs": [
    {
     "name": "stdout",
     "output_type": "stream",
     "text": [
      "x antes de la función :  3\n",
      "x en la función : 4\n",
      "x después de correr la función :  3\n"
     ]
    }
   ],
   "source": [
    "def siguiente(n):\n",
    "    n += 1\n",
    "    print('x en la función :', n)\n",
    "    \n",
    "# Definimos x\n",
    "x = 3\n",
    "print('x antes de la función : ', x)\n",
    "\n",
    "# Aplicamos la función\n",
    "siguiente(x)\n",
    "print('x después de correr la función : ', x)  # El valor de x no cambió fuera de la función"
   ]
  },
  {
   "cell_type": "code",
   "execution_count": 17,
   "metadata": {
    "slideshow": {
     "slide_type": "slide"
    }
   },
   "outputs": [
    {
     "name": "stdout",
     "output_type": "stream",
     "text": [
      "x antes de la función :  3\n",
      "x después de asignarle el resultado de la función :  4\n"
     ]
    }
   ],
   "source": [
    "# Si queremos que efectivamente x cambie, redefinimos la función de la siguiente manera:\n",
    "def siguiente(n):\n",
    "    n += 1\n",
    "    return n\n",
    "\n",
    "# Definimos x\n",
    "x = 3\n",
    "print('x antes de la función : ', x)\n",
    "\n",
    "# Aplicamos la función, pero tenemos que asignarle el resultado a x.\n",
    "x = siguiente(x)\n",
    "print('x después de asignarle el resultado de la función : ', x) "
   ]
  },
  {
   "cell_type": "markdown",
   "metadata": {
    "slideshow": {
     "slide_type": "slide"
    }
   },
   "source": [
    "<a name=\"funcanon\"></a>\n",
    "## Funciones anónimas\n",
    "\n",
    "El comando `lambda` nos permite definir funciones anónimas (es decir, funciones que no definimos utilizando `def`)."
   ]
  },
  {
   "cell_type": "code",
   "execution_count": 18,
   "metadata": {
    "slideshow": {
     "slide_type": "fragment"
    }
   },
   "outputs": [
    {
     "name": "stdout",
     "output_type": "stream",
     "text": [
      "10\n",
      "10\n"
     ]
    }
   ],
   "source": [
    "def f(x):\n",
    "    return 2*x \n",
    "\n",
    "g = lambda x: 2*x\n",
    "print(f(5))\n",
    "print(g(5))"
   ]
  },
  {
   "cell_type": "markdown",
   "metadata": {
    "slideshow": {
     "slide_type": "slide"
    }
   },
   "source": [
    "Otra de las ventajas que proporcionan es la posibilidad de definir nuevas funciones a partir de otras, pero manteniendo fijos ciertos argumentos. Por ejemplo, en nuestro código definimos la siguiente función:"
   ]
  },
  {
   "cell_type": "code",
   "execution_count": 19,
   "metadata": {
    "slideshow": {
     "slide_type": "fragment"
    }
   },
   "outputs": [],
   "source": [
    "def pot(base, potencia):\n",
    "    return base**potencia"
   ]
  },
  {
   "cell_type": "markdown",
   "metadata": {
    "slideshow": {
     "slide_type": "slide"
    }
   },
   "source": [
    "Supongamos ahora que en alguna parte del código necesitamos una nueva función que calcule sólo las potencias de $2$. Aquí puede resultar útil declarar una función anónima:"
   ]
  },
  {
   "cell_type": "code",
   "execution_count": 20,
   "metadata": {
    "slideshow": {
     "slide_type": "fragment"
    }
   },
   "outputs": [],
   "source": [
    "g = lambda x: pot(2,x)"
   ]
  },
  {
   "cell_type": "markdown",
   "metadata": {
    "slideshow": {
     "slide_type": "slide"
    }
   },
   "source": [
    "Ahora `g` es una función. Notar que `2` está fijo, entonces `g` calcula $2^x$. Veámoslo:"
   ]
  },
  {
   "cell_type": "code",
   "execution_count": 21,
   "metadata": {
    "slideshow": {
     "slide_type": "fragment"
    }
   },
   "outputs": [
    {
     "name": "stdout",
     "output_type": "stream",
     "text": [
      "4\n",
      "16\n",
      "0.5\n"
     ]
    }
   ],
   "source": [
    "print(g(2))\n",
    "print(g(4))\n",
    "print(g(-1))"
   ]
  },
  {
   "cell_type": "markdown",
   "metadata": {
    "slideshow": {
     "slide_type": "slide"
    }
   },
   "source": [
    "<a name=\"numpy\"></a>\n",
    "# Librería Numpy\n",
    "\n",
    "Utilizaremos los objetos `array` de la librería `numpy` para trabajar con matrices en Python. Es importante notar que un __`array`es mutable__.\n",
    "\n",
    "La librería numpy se instala con el siguiente comando en la consola:\n",
    "\n",
    "`pip install numpy`\n",
    "\n",
    "Al comienzo de nuestro script en Python importamos la librería `numpy` con el alias `np` (para que sea más rápido escribirlo luego):"
   ]
  },
  {
   "cell_type": "code",
   "execution_count": 22,
   "metadata": {
    "slideshow": {
     "slide_type": "fragment"
    }
   },
   "outputs": [],
   "source": [
    "import numpy as np"
   ]
  },
  {
   "cell_type": "markdown",
   "metadata": {
    "slideshow": {
     "slide_type": "slide"
    }
   },
   "source": [
    "Una vez hecho eso, podemos empezar a trabajr con _arrays_. Veamos un par de ejemplos.\n",
    "\n",
    "Definimos los vectores $v=(0, 1, -1)$ y $w=(2,1, 3)$."
   ]
  },
  {
   "cell_type": "code",
   "execution_count": 23,
   "metadata": {
    "slideshow": {
     "slide_type": "fragment"
    }
   },
   "outputs": [],
   "source": [
    "v = np.array([0, 1, -1])\n",
    "w = np.array([2, 1, 3])"
   ]
  },
  {
   "cell_type": "markdown",
   "metadata": {
    "slideshow": {
     "slide_type": "fragment"
    }
   },
   "source": [
    "Ahora podemos realizar distintas operaciones."
   ]
  },
  {
   "cell_type": "markdown",
   "metadata": {
    "slideshow": {
     "slide_type": "slide"
    }
   },
   "source": [
    "__Importante:__ **el operador `*` no realiza el producto interno entre dos vectores o el producto entre dos matrices.**  Utilizaremos `*` sólo cuando querramos multiplicar una matriz o un vector por un escalar, ya que `*` realiza multiplicación elemento a elemento. **Para el producto interno entre vectores, el producto entre matrices y el producto entre un vector y una matriz se utiliza el operador `@`**. A continuación, algunos ejemplos."
   ]
  },
  {
   "cell_type": "code",
   "execution_count": 24,
   "metadata": {
    "slideshow": {
     "slide_type": "fragment"
    }
   },
   "outputs": [
    {
     "name": "stdout",
     "output_type": "stream",
     "text": [
      "z = w + v :  [2 2 2]\n",
      "z = v @ w :  -2\n",
      " v + 1 :  [1 2 0]\n",
      " w * 2 :  [4 2 6]\n"
     ]
    }
   ],
   "source": [
    "# Sumamos w y v\n",
    "z = w+v\n",
    "print('z = w + v : ',z)\n",
    "\n",
    "# Realizamos el producto interno entre v y w: z=<v,w>\n",
    "z = v @ w\n",
    "print('z = v @ w : ', z)\n",
    "\n",
    "# Si realizamos operaciones entre vectores y escalares, se interpretan como operaciones lugar a lugar\n",
    "print(' v + 1 : ', v+1)\n",
    "print(' w * 2 : ', w*2)"
   ]
  },
  {
   "cell_type": "markdown",
   "metadata": {
    "slideshow": {
     "slide_type": "slide"
    }
   },
   "source": [
    "Las matrices se definen de manera similar a los vectores, sólo que en vez de estar definidas en base a listas, lo están en base a listas de listas. Definimos la siguiente matriz:\n",
    "$$A =\\left( \\begin{array}{ccc}\n",
    "1 & -3 & 2 \\\\\n",
    "0 & 6 & -2 \\\\\n",
    "4 & 8 & 0 \\\\\n",
    "\\end{array} \\right)\n",
    "$$"
   ]
  },
  {
   "cell_type": "code",
   "execution_count": 25,
   "metadata": {
    "slideshow": {
     "slide_type": "fragment"
    }
   },
   "outputs": [],
   "source": [
    "A = np.array([[1, -3, 2], [0, 6, -2], [4, 8 ,0]]) # Notar que cada una de las listas es una fila"
   ]
  },
  {
   "cell_type": "markdown",
   "metadata": {
    "slideshow": {
     "slide_type": "fragment"
    }
   },
   "source": [
    "También se pueden realizar operaciones entre matrices o entre matrices y vectores, siempre y cuando las dimensiones sean adecuadas. Lo bueno de definir vectores como _arrarys_ es que no tenemos que preocuparnos por trasponerlos si deseamos multiplicarlos por una matriz:"
   ]
  },
  {
   "cell_type": "code",
   "execution_count": 26,
   "metadata": {
    "slideshow": {
     "slide_type": "fragment"
    }
   },
   "outputs": [
    {
     "name": "stdout",
     "output_type": "stream",
     "text": [
      "[-5  8  8]\n"
     ]
    }
   ],
   "source": [
    "b = A @ v\n",
    "print(b)"
   ]
  },
  {
   "cell_type": "markdown",
   "metadata": {
    "slideshow": {
     "slide_type": "fragment"
    }
   },
   "source": [
    "Recordar que $v=(0, 1, -1)$, sin embargo, para efectuar el cálculo $Av^t$, no necesitamos trasponer `v`. "
   ]
  },
  {
   "cell_type": "markdown",
   "metadata": {
    "slideshow": {
     "slide_type": "slide"
    }
   },
   "source": [
    "También podemos acceder a elementos de un _array_. Si se trata de un vector, accedemos a un elemento como lo haríamos si se tratara de una lista, es decir, con `[ ]`."
   ]
  },
  {
   "cell_type": "code",
   "execution_count": 27,
   "metadata": {
    "slideshow": {
     "slide_type": "fragment"
    }
   },
   "outputs": [
    {
     "name": "stdout",
     "output_type": "stream",
     "text": [
      "Segunda coordenada de v :  1\n",
      "Primera coordenada de w :  2\n"
     ]
    }
   ],
   "source": [
    "print('Segunda coordenada de v : ', v[1])\n",
    "print('Primera coordenada de w : ', w[0])"
   ]
  },
  {
   "cell_type": "markdown",
   "metadata": {
    "slideshow": {
     "slide_type": "fragment"
    }
   },
   "source": [
    "En el caso de las matrices, la sintaxis es `[fila, columna]`. Por ejemplo, `A[0,1]` es $A_{1 2}$.\n",
    "\n",
    "Como en el caso de las listas, también podemos utilizar _slices_ para obtener partes de la matriz o vector. Por ejemplo:\n",
    "* si nos queremos quedar con la primera fila de `A`, lo hacemos de la siguiente manera: `A[0, :]`\n",
    "* si queremos la submatriz formada por las últimas dos filas y últimas dos columnas: `A[-2:, -2:]`\n",
    "* si queremos la segunda columna de: `A[:, 1]`"
   ]
  },
  {
   "cell_type": "markdown",
   "metadata": {
    "slideshow": {
     "slide_type": "slide"
    }
   },
   "source": [
    "<a name=\"numpycoms\"></a>\n",
    "### Comandos útiles para arrays\n",
    "\n",
    "* el atributo `shape` nos devuelve las dimensiones del array: `A.shape` devuelve la tupla `(3, 3)`. Así, si queremos la cantidad de filas de una matriz, usamos `A.shape[0]` y si queremos la cantidad de columnas, `A.shape[1]`. En el caso de los arrays que representan vectores, `shape` devuelve una tupla de un solo elemento, que representa la longitud del vector."
   ]
  },
  {
   "cell_type": "code",
   "execution_count": 28,
   "metadata": {
    "slideshow": {
     "slide_type": "fragment"
    }
   },
   "outputs": [
    {
     "data": {
      "text/plain": [
       "(2, 3)"
      ]
     },
     "execution_count": 28,
     "metadata": {},
     "output_type": "execute_result"
    }
   ],
   "source": [
    "A = np.array([[1, 2, 3], \n",
    "              [0, 0, 1]])\n",
    "np.shape(A)"
   ]
  },
  {
   "cell_type": "markdown",
   "metadata": {
    "slideshow": {
     "slide_type": "slide"
    }
   },
   "source": [
    "* el atributo `T` permite trasponer la matriz. No modifica la matriz original. Por ejemplo, si queremos calcular $A^tA$ basta escribir `A.T @ A`."
   ]
  },
  {
   "cell_type": "code",
   "execution_count": 29,
   "metadata": {
    "slideshow": {
     "slide_type": "fragment"
    }
   },
   "outputs": [
    {
     "data": {
      "text/plain": [
       "array([[1, 0],\n",
       "       [2, 0],\n",
       "       [3, 1]])"
      ]
     },
     "execution_count": 29,
     "metadata": {},
     "output_type": "execute_result"
    }
   ],
   "source": [
    "A = np.array([[1, 2, 3], \n",
    "              [0, 0, 1]])\n",
    "A.T"
   ]
  },
  {
   "cell_type": "markdown",
   "metadata": {
    "slideshow": {
     "slide_type": "slide"
    }
   },
   "source": [
    "* el comando `zeros` permite inicializar una matriz o vector nulo (con $0$ en todas sus coordenadas). Hay que pasarle las dimensiones como input. Por ejemplo, `np.zeros((4,3))` devuelve la matriz nula de $4\\times 3$ y `np.zeros(A.shape)` devuelve una matriz nula del mismo tamaño que `A`."
   ]
  },
  {
   "cell_type": "code",
   "execution_count": 30,
   "metadata": {
    "slideshow": {
     "slide_type": "fragment"
    }
   },
   "outputs": [
    {
     "data": {
      "text/plain": [
       "array([[0., 0., 0., 0., 0.],\n",
       "       [0., 0., 0., 0., 0.],\n",
       "       [0., 0., 0., 0., 0.],\n",
       "       [0., 0., 0., 0., 0.],\n",
       "       [0., 0., 0., 0., 0.]])"
      ]
     },
     "execution_count": 30,
     "metadata": {},
     "output_type": "execute_result"
    }
   ],
   "source": [
    "N = np.zeros((5,5))\n",
    "N"
   ]
  },
  {
   "cell_type": "markdown",
   "metadata": {
    "slideshow": {
     "slide_type": "slide"
    }
   },
   "source": [
    "* el comando `ones` es análogo a `zeros`, sólo que devuelve una matriz con 1 en todas sus filas y columnas."
   ]
  },
  {
   "cell_type": "code",
   "execution_count": 31,
   "metadata": {
    "slideshow": {
     "slide_type": "fragment"
    }
   },
   "outputs": [
    {
     "data": {
      "text/plain": [
       "array([[1., 1., 1.],\n",
       "       [1., 1., 1.],\n",
       "       [1., 1., 1.]])"
      ]
     },
     "execution_count": 31,
     "metadata": {},
     "output_type": "execute_result"
    }
   ],
   "source": [
    "O = np.ones((3,3))\n",
    "O"
   ]
  },
  {
   "cell_type": "markdown",
   "metadata": {
    "slideshow": {
     "slide_type": "slide"
    }
   },
   "source": [
    "* el comando `eye` nos permite crear la matriz identidad. Como genera una matriz cuadrada, sólo requiere un entero como input."
   ]
  },
  {
   "cell_type": "code",
   "execution_count": 32,
   "metadata": {
    "slideshow": {
     "slide_type": "slide"
    }
   },
   "outputs": [
    {
     "data": {
      "text/plain": [
       "array([[1., 0., 0.],\n",
       "       [0., 1., 0.],\n",
       "       [0., 0., 1.]])"
      ]
     },
     "execution_count": 32,
     "metadata": {},
     "output_type": "execute_result"
    }
   ],
   "source": [
    "I = np.eye(3)\n",
    "I"
   ]
  },
  {
   "cell_type": "markdown",
   "metadata": {
    "slideshow": {
     "slide_type": "slide"
    }
   },
   "source": [
    "* el comando `arange` permite generar un vector que contiene a todos los números en un determinado rango. La sintaxis es `np.arange(inicio, fin, paso)` donde `fin`no está incluido y `paso` es optativo (el valor por defecto es 1)."
   ]
  },
  {
   "cell_type": "code",
   "execution_count": 33,
   "metadata": {
    "slideshow": {
     "slide_type": "fragment"
    }
   },
   "outputs": [
    {
     "data": {
      "text/plain": [
       "array([0, 2, 4, 6, 8])"
      ]
     },
     "execution_count": 33,
     "metadata": {},
     "output_type": "execute_result"
    }
   ],
   "source": [
    "u = np.arange(0,10,2)\n",
    "u"
   ]
  },
  {
   "cell_type": "markdown",
   "metadata": {
    "slideshow": {
     "slide_type": "slide"
    }
   },
   "source": [
    "* el comando `random.random` nos permite generar una matriz aleatoria de un determinado tamaño. Toma como input una tupla con el tamaño de la matriz. Por ejemplo, `np.random.random((3,4))` devuelve una matriz de $3\\times 4$ y `np.random.random(A.shape)` devuelve una matriz aleatoria con el mismo tamaño que `A`. Los valores aleatorios se encuentran en el intervalo $[0,1)$ \n",
    "* recordar que los array son _mutables_. El comando `copy` nos permite crear la copia de un array. Por ejemplo, si queremos crear `B` una copia de `A`, lo hacemos de la siguiente manera: `B = A.copy()`\n",
    "\n",
    "* el paquete `linalg` de `numpy` tiene algunas funciones que nos serán de utilidad. Por ejemplo, si deseamos importar la función `norm` de `linalg`, que sirve para calcular la norma de un vector o una matriz, escribimos al comienzo del script: `from numpy.linalg import norm` Luego, si queremos calcular la norma de `v`, basta con escribir `norm(v)`"
   ]
  },
  {
   "attachments": {
    "LaViejaConfiable.jpg": {
     "image/jpeg": "[encoded data removed]"
    }
   },
   "cell_type": "markdown",
   "metadata": {
    "slideshow": {
     "slide_type": "slide"
    }
   },
   "source": [
    "![LaViejaConfiable.jpg](attachment:LaViejaConfiable.jpg)"
   ]
  },
  {
   "cell_type": "markdown",
   "metadata": {
    "slideshow": {
     "slide_type": "slide"
    }
   },
   "source": [
    "## Ejercicio\n",
    "\n",
    "Sean:\n",
    "$$A = \\left( \\begin{array}{ccc} 1 & 0 & -1 \\\\ 2 & 1 & 3 \\\\ 0 & 1 & -1 \\end{array} \\right)\n",
    "\\qquad B = \\left( \\begin{array}{ccc} 0 & -2 & 1 \\\\ 3 & -1 & 0 \\\\ 2 & 0 & -1 \\end{array} \\right)\n",
    "\\qquad v = (-1, 4, -2)$$\n",
    "Computar en Python la siguiente operación:\n",
    "$A^tA^2v^t+ BAv^t + <v, A_{1 \\cdot}>v^t$ siendo $A_{1 \\cdot}$ la primera fila de $A$ \n",
    "\n",
    "__Respuesta:__ $(40, 17, 57)$"
   ]
  },
  {
   "cell_type": "code",
   "execution_count": 110,
   "metadata": {
    "scrolled": true,
    "slideshow": {
     "slide_type": "skip"
    }
   },
   "outputs": [
    {
     "data": {
      "text/plain": [
       "array([40, 17, 57])"
      ]
     },
     "execution_count": 110,
     "metadata": {},
     "output_type": "execute_result"
    }
   ],
   "source": [
    "A = np.array([[1, 0, -1], [2, 1, 3], [0, 1 ,-1]]) # Notar que cada una de las listas es una fila\n",
    "B = np.array([[0,-2,1],[3,-1,0], [2,0,-1]])\n",
    "v = np.array([-1,4,-2])\n",
    "\n",
    "A.T@A@A@v + B@A@v + (v@A[0,:]) * v"
   ]
  },
  {
   "cell_type": "code",
   "execution_count": null,
   "metadata": {},
   "outputs": [],
   "source": []
  },
  {
   "cell_type": "markdown",
   "metadata": {
    "slideshow": {
     "slide_type": "slide"
    }
   },
   "source": [
    "<a name=\"ders\"></a>\n",
    "# Derivadas para una función en una variable"
   ]
  },
  {
   "cell_type": "markdown",
   "metadata": {
    "slideshow": {
     "slide_type": "slide"
    }
   },
   "source": [
    "### Método forward\n",
    "\n",
    "Dados $f\\in C^2$ y $h>0$, desarrollando Taylor centrado en $x$ tenemos que:\n",
    "$$f(x+h)=f(x) + f'(x)h + \\color{red}{\\dfrac{f''(\\xi)h^2}{2}} \\qquad \\xi\\in(x,x+h)$$\n",
    "$$\\begin{array}{rll}\\Rightarrow f'(x) & = & \\dfrac{f(x+h)-f(x)}{h} - \\color{red}{\\dfrac{f''(\\xi)h}{2}} \\\\ & = & \\dfrac{f(x+h)-f(x)}{h} - \\color{red}{O(h)} \\end{array}$$"
   ]
  },
  {
   "cell_type": "markdown",
   "metadata": {
    "slideshow": {
     "slide_type": "fragment"
    }
   },
   "source": [
    "Luego, $f'(x)$ puede aproximarse como:\n",
    "$$f'(x) \\approx \\dfrac{f(x+h)-f(x)}{h}$$"
   ]
  },
  {
   "cell_type": "markdown",
   "metadata": {
    "slideshow": {
     "slide_type": "slide"
    }
   },
   "source": [
    "### Método Backward\n",
    "\n",
    "Análogo al método forward. Dados $f\\in C^2$ y $h>0$, desarrollando Taylor centrado en $x$ tenemos que:\n",
    "$$f(x-h)=f(x) - f'(x)h + \\color{red}{\\dfrac{f''(\\xi)h^2}{2}} \\qquad \\xi\\in(x-h,x)$$\n",
    "$$\\begin{array}{rll}\\Rightarrow f'(x) & = & \\dfrac{f(x)-f(x-h)}{h} + \\color{red}{\\dfrac{f''(\\xi)h}{2}} \\\\ & = & \\dfrac{f(x)-f(x-h)}{h} + \\color{red}{O(h)} \\end{array}$$"
   ]
  },
  {
   "cell_type": "markdown",
   "metadata": {
    "slideshow": {
     "slide_type": "fragment"
    }
   },
   "source": [
    "Luego, $f'(x)$ puede aproximarse como:\n",
    "$$f'(x) \\approx \\dfrac{f(x)-f(x-h)}{h}$$"
   ]
  },
  {
   "cell_type": "markdown",
   "metadata": {
    "slideshow": {
     "slide_type": "slide"
    }
   },
   "source": [
    "### Método de centradas\n",
    "\n",
    "Dados $f\\in C^3$ y $h>0$, desarrollando Taylor centrado en $x$ tenemos que:\n",
    "$$f(x+h)=f(x) + f'(x)h + \\dfrac{f''(x)h^2}{2} + \\color{red}{\\dfrac{f'''(\\xi)h^3}{6}} \\qquad \\xi\\in(x,x+h)$$\n",
    "$$f(x-h)=f(x) - f'(x)h + \\dfrac{f''(x)h^2}{2} - \\color{red}{\\dfrac{f'''(\\eta)h^3}{6}} \\qquad \\eta\\in(x-h,x)$$\n",
    "Restando ambas expresiones, obtenemos que:\n",
    "$$f(x+h)-f(x-h) = 2f'(x)h+\\color{red}{\\dfrac{(f'''(\\xi)+f'''(\\eta))h^3}{6}}$$\n",
    "$$\\begin{array}{rll}\\Rightarrow f'(x) & = & \\dfrac{f(x+h)-f(x-h)}{2h} + \\color{red}{\\dfrac{(f'''(\\xi)+f'''(\\eta))h^2}{12}} \\\\ & = & \\dfrac{f(x+h)-f(x-h)}{2h} + \\color{red}{O(h^2)} \\end{array}$$"
   ]
  },
  {
   "cell_type": "markdown",
   "metadata": {
    "slideshow": {
     "slide_type": "fragment"
    }
   },
   "source": [
    "Luego, $f'(x)$ puede aproximarse como:\n",
    "$$f'(x) \\approx \\dfrac{f(x+h)-f(x-h)}{2h}$$"
   ]
  },
  {
   "cell_type": "markdown",
   "metadata": {
    "slideshow": {
     "slide_type": "slide"
    }
   },
   "source": [
    "## Ejercicio\n",
    "\n",
    "1. Implementar una función en Python que aproxime la derivada de una función en una variable, para cada uno de los métodos. La función en Python debe tomar como input:\n",
    "* `f` una función de una variable\n",
    "* `x` el punto donde se calcula la derivada\n",
    "* `h` como input opcional, con valor predeterminado de 0.01\n",
    "\n",
    "2. Para $f(x)=2x^3$, correr alguna de las funciones del punto anterior para aproximar $f'(1)$ para distintos valores de $h$. Comenzar con $h=0.1$ y sucesivamente ir dividiendo el valor de $h$ por $10$ hasta que $h<10^{-20}$. Imprimir en pantalla el resultado para cada valor de $h$. ¿Qué se observa? ¿Por qué sucede?\n",
    "\n"
   ]
  },
  {
   "cell_type": "code",
   "execution_count": 60,
   "metadata": {
    "slideshow": {
     "slide_type": "skip"
    }
   },
   "outputs": [],
   "source": [
    "def metodoCentradas(f,x,h):\n",
    "    df = (f(x+h) - f(x-h))/(2*h)\n",
    "    return df"
   ]
  },
  {
   "cell_type": "code",
   "execution_count": 85,
   "metadata": {},
   "outputs": [],
   "source": [
    "f = lambda x: 2*x**3\n",
    "x = 1\n",
    "h = 1e-15\n"
   ]
  },
  {
   "cell_type": "code",
   "execution_count": 86,
   "metadata": {},
   "outputs": [
    {
     "data": {
      "text/plain": [
       "6.328271240363391"
      ]
     },
     "execution_count": 86,
     "metadata": {},
     "output_type": "execute_result"
    }
   ],
   "source": [
    "metodoCentradas(f,x,h)"
   ]
  },
  {
   "cell_type": "code",
   "execution_count": null,
   "metadata": {},
   "outputs": [],
   "source": []
  }
 ],
 "metadata": {
  "kernelspec": {
   "display_name": "Python 3 (ipykernel)",
   "language": "python",
   "name": "python3"
  },
  "language_info": {
   "codemirror_mode": {
    "name": "ipython",
    "version": 3
   },
   "file_extension": ".py",
   "mimetype": "text/x-python",
   "name": "python",
   "nbconvert_exporter": "python",
   "pygments_lexer": "ipython3",
   "version": "3.10.5"
  }
 },
 "nbformat": 4,
 "nbformat_minor": 1
}
